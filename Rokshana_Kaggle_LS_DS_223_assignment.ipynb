{
  "nbformat": 4,
  "nbformat_minor": 0,
  "metadata": {
    "kernelspec": {
      "display_name": "Python 3",
      "language": "python",
      "name": "python3"
    },
    "language_info": {
      "codemirror_mode": {
        "name": "ipython",
        "version": 3
      },
      "file_extension": ".py",
      "mimetype": "text/x-python",
      "name": "python",
      "nbconvert_exporter": "python",
      "pygments_lexer": "ipython3",
      "version": "3.7.6"
    },
    "colab": {
      "name": "Rokshana_Kaggle_LS_DS_223_assignment.ipynb",
      "provenance": [],
      "include_colab_link": true
    }
  },
  "cells": [
    {
      "cell_type": "markdown",
      "metadata": {
        "id": "view-in-github",
        "colab_type": "text"
      },
      "source": [
        "<a href=\"https://colab.research.google.com/github/rokshana10/DS-Unit-2-Kaggle-Challenge/blob/master/Rokshana_Kaggle_LS_DS_223_assignment.ipynb\" target=\"_parent\"><img src=\"https://colab.research.google.com/assets/colab-badge.svg\" alt=\"Open In Colab\"/></a>"
      ]
    },
    {
      "cell_type": "markdown",
      "metadata": {
        "id": "pT1UaufmuPK5",
        "colab_type": "text"
      },
      "source": [
        "Lambda School Data Science\n",
        "\n",
        "*Unit 2, Sprint 2, Module 3*\n",
        "\n",
        "---"
      ]
    },
    {
      "cell_type": "markdown",
      "metadata": {
        "id": "HFiwf5K6uPK7",
        "colab_type": "text"
      },
      "source": [
        "# Cross-Validation\n",
        "\n",
        "\n",
        "## Assignment\n",
        "- [ ] [Review requirements for your portfolio project](https://lambdaschool.github.io/ds/unit2), then submit your dataset.\n",
        "- [ ] Continue to participate in our Kaggle challenge. \n",
        "- [ ] Use scikit-learn for hyperparameter optimization with RandomizedSearchCV.\n",
        "- [ ] Submit your predictions to our Kaggle competition. (Go to our Kaggle InClass competition webpage. Use the blue **Submit Predictions** button to upload your CSV file. Or you can use the Kaggle API to submit your predictions.)\n",
        "- [ ] Commit your notebook to your fork of the GitHub repo.\n",
        "\n",
        "\n",
        "**You can't just copy** from the lesson notebook to this assignment.\n",
        "\n",
        "- Because the lesson was **regression**, but the assignment is **classification.**\n",
        "- Because the lesson used [TargetEncoder](https://contrib.scikit-learn.org/categorical-encoding/targetencoder.html), which doesn't work as-is for _multi-class_ classification.\n",
        "\n",
        "So you will have to adapt the example, which is good real-world practice.\n",
        "\n",
        "1. Use a model for classification, such as [RandomForestClassifier](https://scikit-learn.org/stable/modules/generated/sklearn.ensemble.RandomForestClassifier.html)\n",
        "2. Use hyperparameters that match the classifier, such as `randomforestclassifier__ ...`\n",
        "3. Use a metric for classification, such as [`scoring='accuracy'`](https://scikit-learn.org/stable/modules/model_evaluation.html#common-cases-predefined-values)\n",
        "4. If you’re doing a multi-class classification problem — such as whether a waterpump is functional, functional needs repair, or nonfunctional — then use a categorical encoding that works for multi-class classification, such as [OrdinalEncoder](https://contrib.scikit-learn.org/categorical-encoding/ordinal.html) (not [TargetEncoder](https://contrib.scikit-learn.org/categorical-encoding/targetencoder.html))\n",
        "\n",
        "\n",
        "\n",
        "## Stretch Goals\n",
        "\n",
        "### Reading\n",
        "- Jake VanderPlas, [Python Data Science Handbook, Chapter 5.3](https://jakevdp.github.io/PythonDataScienceHandbook/05.03-hyperparameters-and-model-validation.html), Hyperparameters and Model Validation\n",
        "- Jake VanderPlas, [Statistics for Hackers](https://speakerdeck.com/jakevdp/statistics-for-hackers?slide=107)\n",
        "- Ron Zacharski, [A Programmer's Guide to Data Mining, Chapter 5](http://guidetodatamining.com/chapter5/), 10-fold cross validation\n",
        "- Sebastian Raschka, [A Basic Pipeline and Grid Search Setup](https://github.com/rasbt/python-machine-learning-book/blob/master/code/bonus/svm_iris_pipeline_and_gridsearch.ipynb)\n",
        "- Peter Worcester, [A Comparison of Grid Search and Randomized Search Using Scikit Learn](https://blog.usejournal.com/a-comparison-of-grid-search-and-randomized-search-using-scikit-learn-29823179bc85)\n",
        "\n",
        "### Doing\n",
        "- Add your own stretch goals!\n",
        "- Try other [categorical encodings](https://contrib.scikit-learn.org/categorical-encoding/). See the previous assignment notebook for details.\n",
        "- In additon to `RandomizedSearchCV`, scikit-learn has [`GridSearchCV`](https://scikit-learn.org/stable/modules/generated/sklearn.model_selection.GridSearchCV.html). Another library called scikit-optimize has [`BayesSearchCV`](https://scikit-optimize.github.io/notebooks/sklearn-gridsearchcv-replacement.html). Experiment with these alternatives.\n",
        "- _[Introduction to Machine Learning with Python](http://shop.oreilly.com/product/0636920030515.do)_ discusses options for \"Grid-Searching Which Model To Use\" in Chapter 6:\n",
        "\n",
        "> You can even go further in combining GridSearchCV and Pipeline: it is also possible to search over the actual steps being performed in the pipeline (say whether to use StandardScaler or MinMaxScaler). This leads to an even bigger search space and should be considered carefully. Trying all possible solutions is usually not a viable machine learning strategy. However, here is an example comparing a RandomForestClassifier and an SVC ...\n",
        "\n",
        "The example is shown in [the accompanying notebook](https://github.com/amueller/introduction_to_ml_with_python/blob/master/06-algorithm-chains-and-pipelines.ipynb), code cells 35-37. Could you apply this concept to your own pipelines?\n"
      ]
    },
    {
      "cell_type": "markdown",
      "metadata": {
        "id": "kJUSqf-suPK-",
        "colab_type": "text"
      },
      "source": [
        "### BONUS: Stacking!\n",
        "\n",
        "Here's some code you can use to \"stack\" multiple submissions, which is another form of ensembling:\n",
        "\n",
        "```python\n",
        "import pandas as pd\n",
        "\n",
        "# Filenames of your submissions you want to ensemble\n",
        "files = ['submission-01.csv', 'submission-02.csv', 'submission-03.csv']\n",
        "\n",
        "target = 'status_group'\n",
        "submissions = (pd.read_csv(file)[[target]] for file in files)\n",
        "ensemble = pd.concat(submissions, axis='columns')\n",
        "majority_vote = ensemble.mode(axis='columns')[0]\n",
        "\n",
        "sample_submission = pd.read_csv('sample_submission.csv')\n",
        "submission = sample_submission.copy()\n",
        "submission[target] = majority_vote\n",
        "submission.to_csv('my-ultimate-ensemble-submission.csv', index=False)\n",
        "```"
      ]
    },
    {
      "cell_type": "code",
      "metadata": {
        "id": "MFcirmqUuPK_",
        "colab_type": "code",
        "colab": {}
      },
      "source": [
        "%%capture\n",
        "import sys\n",
        "\n",
        "# If you're on Colab:\n",
        "if 'google.colab' in sys.modules:\n",
        "    DATA_PATH = 'https://raw.githubusercontent.com/LambdaSchool/DS-Unit-2-Kaggle-Challenge/master/data/'\n",
        "    !pip install category_encoders==2.*\n",
        "\n",
        "# If you're working locally:\n",
        "else:\n",
        "    DATA_PATH = '../data/'"
      ],
      "execution_count": 0,
      "outputs": []
    },
    {
      "cell_type": "code",
      "metadata": {
        "id": "Vwcz0LkDuPLY",
        "colab_type": "code",
        "colab": {}
      },
      "source": [
        "import pandas as pd\n",
        "\n",
        "# Merge train_features.csv & train_labels.csv\n",
        "train = pd.merge(pd.read_csv(DATA_PATH+'waterpumps/train_features.csv'), \n",
        "                 pd.read_csv(DATA_PATH+'waterpumps/train_labels.csv'))\n",
        "\n",
        "# Read test_features.csv & sample_submission.csv\n",
        "test = pd.read_csv(DATA_PATH+'waterpumps/test_features.csv')\n",
        "sample_submission = pd.read_csv(DATA_PATH+'waterpumps/sample_submission.csv')"
      ],
      "execution_count": 0,
      "outputs": []
    },
    {
      "cell_type": "code",
      "metadata": {
        "id": "DXciVX6duPLf",
        "colab_type": "code",
        "outputId": "113c1ca1-40c3-4415-c7e6-eb9407c3d1ef",
        "colab": {
          "base_uri": "https://localhost:8080/",
          "height": 54
        }
      },
      "source": [
        "import numpy as np\n",
        "import category_encoders as ce\n",
        "import matplotlib.pyplot as plt\n",
        "import seaborn as sns\n",
        "%matplotlib inline"
      ],
      "execution_count": 0,
      "outputs": [
        {
          "output_type": "stream",
          "text": [
            "/usr/local/lib/python3.6/dist-packages/statsmodels/tools/_testing.py:19: FutureWarning: pandas.util.testing is deprecated. Use the functions in the public API at pandas.testing instead.\n",
            "  import pandas.util.testing as tm\n"
          ],
          "name": "stderr"
        }
      ]
    },
    {
      "cell_type": "code",
      "metadata": {
        "id": "bPgNmOj_uhbp",
        "colab_type": "code",
        "colab": {}
      },
      "source": [
        "# impute the median latitude, longitude, and gps_height from other geographical features\n",
        "# working through the features from most to least specific until there are no nan's or \n",
        "# no more geographical features to check\n",
        "# must set impute_source to the source dataframe before calling\n",
        "# this function is meant to be used as the target of a DataFrame.apply(impute_gps, axis=1) call\n",
        "#   to be used on a subset of the dataframe where latitude and longitude are nan's\n",
        "# parameter 'row' = a pandas series. a single row from a dataframe\n",
        "impute_source = None\n",
        "\n",
        "def impute_gps(row):\n",
        "  assert impute_source is not None, 'impute_source not set'\n",
        "  geo_features = ['basin', 'subvillage', 'region', 'region_code', 'district_code', 'lga', 'ward']\n",
        "  geo_features_most_to_least_specific = impute_source[geo_features].nunique().sort_values(ascending=False).index.tolist()\n",
        "  for geo in geo_features_most_to_least_specific:\n",
        "    if row[geo] == '':\n",
        "      continue\n",
        "    # only calculate if it is nan\n",
        "    if np.isnan(row['latitude']):\n",
        "      row['latitude'] = impute_source[impute_source[geo] == row[geo]]['latitude'].median()\n",
        "    if np.isnan(row['longitude']):\n",
        "      row['longitude'] = impute_source[impute_source[geo] == row[geo]]['longitude'].median()\n",
        "    if np.isnan(row['gps_height']):\n",
        "      row['gps_height'] = impute_source[impute_source[geo] == row[geo]]['gps_height'].median()\n",
        "    # if none of the values are nans, stop looking\n",
        "    if not (np.isnan(row['latitude']) and np.isnan(row['longitude']) and np.isnan(row['gps_height'])):\n",
        "      break\n",
        "  \n",
        "  # return only what we changed\n",
        "  return row[['gps_height', 'longitude', 'latitude']]"
      ],
      "execution_count": 0,
      "outputs": []
    },
    {
      "cell_type": "code",
      "metadata": {
        "id": "20NVHCRBup16",
        "colab_type": "code",
        "colab": {}
      },
      "source": [
        "def wrangle(dataframe):\n",
        "  df = dataframe.copy()\n",
        "\n",
        "  # high cardinality categoricals cleanup\n",
        "  # tag missing values\n",
        "  # fill nan's with empty strings\n",
        "  # convert to lower case and remove all non-alphanumeric characters to group\n",
        "  #   things that look alike into 1 thing\n",
        "  hcc_to_clean = ['funder', 'installer', 'wpt_name', 'subvillage', 'ward', 'scheme_name']\n",
        "  for column in hcc_to_clean:\n",
        "    df[column + '_MISSING'] = (df[column].isnull()) | (df[column] == '') | (df[column].fillna('').str.match('^[^A-Za-z0-9]+$'))\n",
        "    df[column] = df[column].fillna('').str.lower().str.replace('[^a-z0-9]', '')\n",
        "  \n",
        "  # also combine items in those same features more explicitly\n",
        "  df['funder'] = df['funder'].str.replace('^quickwin$', 'quickwins')\n",
        "  df['installer'] = df['installer'].str.replace('^notknown', '')\n",
        "  df['wpt_name'] = df['wpt_name'].str.replace('^rc$', 'rcchurch')\n",
        "\n",
        "  # boolean feature cleanup\n",
        "  # tag missing values\n",
        "  # convert to floats to keep the nan's for imputing\n",
        "  boolean_features = ['public_meeting', 'permit']\n",
        "  for column in boolean_features:\n",
        "    df[column + '_MISSING'] = df[column].isnull()\n",
        "    df[column] = df[column].astype(float)\n",
        "\n",
        "  # impute missing latitude, longitude, gps_height\n",
        "  # missing is defined as longitude = 0, latitude = -2e-08\n",
        "  # gps_height is assumed missing for observations where the above are true\n",
        "  #   (exploration has shown that gps_height = 0 for all observations that meet those conditions)\n",
        "  # first, we convert these values to nans, then impute the values for each feature\n",
        "  # the imputed values are the median of that feature for all observations in the dataframe that\n",
        "  #   match that observation's other geographical information\n",
        "  df['longitude'] = df['longitude'].replace(0, np.nan)\n",
        "  df['latitude'] = df['latitude'].replace(-2e-08, np.nan)\n",
        "  df.loc[df['longitude'].isnull(), 'gps_height'] = np.nan\n",
        "  df['lat_long_MISSING'] = (df['longitude'].isnull()) | (df['latitude'].isnull())\n",
        "  imputed_gps = df[df['lat_long_MISSING']].apply(impute_gps, axis=1)\n",
        "  df.update(imputed_gps, overwrite=False)     # overwrite=False means it will only overwrite nan values\n",
        "  assert not df['longitude'].isnull().any(), 'null longitude'\n",
        "  assert not df['latitude'].isnull().any(), 'null latitude'\n",
        "\n",
        "  # When columns have zeros and shouldn't, they are like null values.\n",
        "  # So we will replace the zeros with nulls, and impute missing values later.\n",
        "  # Also create a \"missing indicator\" column, because the fact that\n",
        "  # values are missing may be a predictive signal.\n",
        "  cols_with_zeros = ['construction_year', 'gps_height', 'population']\n",
        "  for col in cols_with_zeros:\n",
        "      df[col] = df[col].replace(0, np.nan)\n",
        "      df[col+'_MISSING'] = df[col].isnull()\n",
        "\n",
        "  # Drop duplicate columns\n",
        "  # including some features that are close duplicates - re-encoding of the same values\n",
        "  duplicates = ['quantity_group', 'payment_type', 'waterpoint_type_group']\n",
        "  df = df.drop(columns=duplicates)\n",
        "\n",
        "  # Drop recorded_by (never varies) and id (always varies, random)\n",
        "  unusable_variance = ['recorded_by', 'id']\n",
        "  df = df.drop(columns=unusable_variance)\n",
        "\n",
        "  # Convert date_recorded to datetime\n",
        "  df['date_recorded'] = pd.to_datetime(df['date_recorded'], infer_datetime_format=True)\n",
        "\n",
        "  # Extract components from date_recorded, then drop the original column\n",
        "  df['year_recorded'] = df['date_recorded'].dt.year\n",
        "  df['month_recorded'] = df['date_recorded'].dt.month\n",
        "  df['day_recorded'] = df['date_recorded'].dt.day\n",
        "  df = df.drop(columns='date_recorded')\n",
        "\n",
        "  # Engineer feature: how many years from construction_year to date_recorded\n",
        "  df['years'] = df['year_recorded'] - df['construction_year']\n",
        "  df['years_MISSING'] = df['years'].isnull()\n",
        "\n",
        "  return df"
      ],
      "execution_count": 0,
      "outputs": []
    },
    {
      "cell_type": "code",
      "metadata": {
        "id": "e6sjt8ANuw9S",
        "colab_type": "code",
        "colab": {}
      },
      "source": [
        "impute_source = train\n",
        "df_train = wrangle(train)\n",
        "\n",
        "impute_source = test\n",
        "df_test = wrangle(test)"
      ],
      "execution_count": 0,
      "outputs": []
    },
    {
      "cell_type": "code",
      "metadata": {
        "id": "ocOAbUzfvu9C",
        "colab_type": "code",
        "colab": {}
      },
      "source": [
        "target = 'status_group'"
      ],
      "execution_count": 0,
      "outputs": []
    },
    {
      "cell_type": "code",
      "metadata": {
        "id": "sR6i2zaxvyYc",
        "colab_type": "code",
        "outputId": "f728e533-bd0e-4030-d3b1-3c90206a006b",
        "colab": {
          "base_uri": "https://localhost:8080/",
          "height": 335
        }
      },
      "source": [
        "cardinality = df_train.drop(columns=target).select_dtypes(exclude=['number', 'bool']).nunique()\n",
        "low_cardinality = cardinality[cardinality<=50].index.tolist()\n",
        "df_train[low_cardinality].dtypes"
      ],
      "execution_count": 0,
      "outputs": [
        {
          "output_type": "execute_result",
          "data": {
            "text/plain": [
              "basin                    object\n",
              "region                   object\n",
              "scheme_management        object\n",
              "extraction_type          object\n",
              "extraction_type_group    object\n",
              "extraction_type_class    object\n",
              "management               object\n",
              "management_group         object\n",
              "payment                  object\n",
              "water_quality            object\n",
              "quality_group            object\n",
              "quantity                 object\n",
              "source                   object\n",
              "source_type              object\n",
              "source_class             object\n",
              "waterpoint_type          object\n",
              "dtype: object"
            ]
          },
          "metadata": {
            "tags": []
          },
          "execution_count": 8
        }
      ]
    },
    {
      "cell_type": "code",
      "metadata": {
        "id": "n5Ysm0wRv2Ms",
        "colab_type": "code",
        "colab": {}
      },
      "source": [
        "features = df_train.columns.drop(target)\n",
        "\n",
        "X_train = df_train[features]\n",
        "X_test = df_test[features]\n",
        "\n",
        "y_train = df_train[target]"
      ],
      "execution_count": 0,
      "outputs": []
    },
    {
      "cell_type": "code",
      "metadata": {
        "id": "pBVKvc8Dv5oh",
        "colab_type": "code",
        "colab": {}
      },
      "source": [
        "from sklearn.pipeline import make_pipeline\n",
        "from sklearn.ensemble import RandomForestClassifier\n",
        "from sklearn.impute import SimpleImputer\n",
        "from sklearn.model_selection import RandomizedSearchCV\n",
        "\n",
        "transformations = make_pipeline(\n",
        "    ce.OneHotEncoder(cols=low_cardinality, use_cat_names=True),\n",
        "    ce.OrdinalEncoder(),\n",
        ")\n",
        "\n",
        "pipeline = make_pipeline(\n",
        "    SimpleImputer(),\n",
        "    RandomForestClassifier(random_state=13, n_jobs=-1)\n",
        ")\n",
        "\n",
        "param_distributions = {\n",
        "    'simpleimputer__strategy' : ['mean', 'median', 'most_frequent'],\n",
        "    'randomforestclassifier__n_estimators' : [10, 50, 100],\n",
        "    'randomforestclassifier__criterion' : ['gini', 'entropy'],\n",
        "    'randomforestclassifier__max_depth' : [None, 25, 50, 100],\n",
        "    'randomforestclassifier__min_samples_leaf' : [1, 7, 15, 0.1, 0.05],\n",
        "    'randomforestclassifier__max_features' : [None, 'auto', 0.5, 0.75, 0.9],\n",
        "}\n",
        "\n",
        "search = RandomizedSearchCV(estimator=pipeline, param_distributions=param_distributions, n_iter=50, scoring=None, cv=5, random_state=13, n_jobs=-1, verbose=10)"
      ],
      "execution_count": 0,
      "outputs": []
    },
    {
      "cell_type": "code",
      "metadata": {
        "id": "hdBdWfbhwBR2",
        "colab_type": "code",
        "outputId": "6b9f7794-b473-48bb-b88c-8c26cc809eb0",
        "colab": {
          "base_uri": "https://localhost:8080/",
          "height": 1000
        }
      },
      "source": [
        "X_train_transformed = transformations.fit_transform(X_train)\n",
        "X_test_transformed = transformations.transform(X_test)\n",
        "\n",
        "search.fit(X_train_transformed, y_train)"
      ],
      "execution_count": 0,
      "outputs": [
        {
          "output_type": "stream",
          "text": [
            "Fitting 5 folds for each of 50 candidates, totalling 250 fits\n"
          ],
          "name": "stdout"
        },
        {
          "output_type": "stream",
          "text": [
            "[Parallel(n_jobs=-1)]: Using backend LokyBackend with 2 concurrent workers.\n",
            "[Parallel(n_jobs=-1)]: Done   1 tasks      | elapsed:   19.2s\n",
            "[Parallel(n_jobs=-1)]: Done   4 tasks      | elapsed:   37.9s\n",
            "[Parallel(n_jobs=-1)]: Done   9 tasks      | elapsed:   54.5s\n",
            "[Parallel(n_jobs=-1)]: Done  14 tasks      | elapsed:  8.3min\n",
            "[Parallel(n_jobs=-1)]: Done  21 tasks      | elapsed: 11.6min\n",
            "[Parallel(n_jobs=-1)]: Done  28 tasks      | elapsed: 13.5min\n",
            "[Parallel(n_jobs=-1)]: Done  37 tasks      | elapsed: 17.4min\n",
            "[Parallel(n_jobs=-1)]: Done  46 tasks      | elapsed: 21.8min\n",
            "[Parallel(n_jobs=-1)]: Done  57 tasks      | elapsed: 32.9min\n",
            "[Parallel(n_jobs=-1)]: Done  68 tasks      | elapsed: 40.4min\n",
            "[Parallel(n_jobs=-1)]: Done  81 tasks      | elapsed: 50.3min\n",
            "[Parallel(n_jobs=-1)]: Done  94 tasks      | elapsed: 60.1min\n",
            "[Parallel(n_jobs=-1)]: Done 109 tasks      | elapsed: 75.9min\n",
            "[Parallel(n_jobs=-1)]: Done 124 tasks      | elapsed: 81.5min\n",
            "[Parallel(n_jobs=-1)]: Done 141 tasks      | elapsed: 93.3min\n",
            "[Parallel(n_jobs=-1)]: Done 158 tasks      | elapsed: 102.3min\n",
            "[Parallel(n_jobs=-1)]: Done 177 tasks      | elapsed: 110.4min\n",
            "[Parallel(n_jobs=-1)]: Done 196 tasks      | elapsed: 126.4min\n",
            "[Parallel(n_jobs=-1)]: Done 217 tasks      | elapsed: 133.7min\n",
            "[Parallel(n_jobs=-1)]: Done 238 tasks      | elapsed: 140.3min\n",
            "[Parallel(n_jobs=-1)]: Done 250 out of 250 | elapsed: 150.4min finished\n"
          ],
          "name": "stderr"
        },
        {
          "output_type": "execute_result",
          "data": {
            "text/plain": [
              "RandomizedSearchCV(cv=5, error_score=nan,\n",
              "                   estimator=Pipeline(memory=None,\n",
              "                                      steps=[('simpleimputer',\n",
              "                                              SimpleImputer(add_indicator=False,\n",
              "                                                            copy=True,\n",
              "                                                            fill_value=None,\n",
              "                                                            missing_values=nan,\n",
              "                                                            strategy='mean',\n",
              "                                                            verbose=0)),\n",
              "                                             ('randomforestclassifier',\n",
              "                                              RandomForestClassifier(bootstrap=True,\n",
              "                                                                     ccp_alpha=0.0,\n",
              "                                                                     class_weight=None,\n",
              "                                                                     criterion='gini',\n",
              "                                                                     max_depth=None,\n",
              "                                                                     max_features='auto',...\n",
              "                                                                              25,\n",
              "                                                                              50,\n",
              "                                                                              100],\n",
              "                                        'randomforestclassifier__max_features': [None,\n",
              "                                                                                 'auto',\n",
              "                                                                                 0.5,\n",
              "                                                                                 0.75,\n",
              "                                                                                 0.9],\n",
              "                                        'randomforestclassifier__min_samples_leaf': [1,\n",
              "                                                                                     7,\n",
              "                                                                                     15,\n",
              "                                                                                     0.1,\n",
              "                                                                                     0.05],\n",
              "                                        'randomforestclassifier__n_estimators': [10,\n",
              "                                                                                 50,\n",
              "                                                                                 100],\n",
              "                                        'simpleimputer__strategy': ['mean',\n",
              "                                                                    'median',\n",
              "                                                                    'most_frequent']},\n",
              "                   pre_dispatch='2*n_jobs', random_state=13, refit=True,\n",
              "                   return_train_score=False, scoring=None, verbose=10)"
            ]
          },
          "metadata": {
            "tags": []
          },
          "execution_count": 11
        }
      ]
    },
    {
      "cell_type": "code",
      "metadata": {
        "id": "qea6oqKicHIO",
        "colab_type": "code",
        "outputId": "ee7ca221-ea0c-4999-be54-3aaeaec26c10",
        "colab": {
          "base_uri": "https://localhost:8080/",
          "height": 74
        }
      },
      "source": [
        "print(search.best_params_)\n",
        "print(search.best_score_)"
      ],
      "execution_count": 0,
      "outputs": [
        {
          "output_type": "stream",
          "text": [
            "{'simpleimputer__strategy': 'median', 'randomforestclassifier__n_estimators': 50, 'randomforestclassifier__min_samples_leaf': 1, 'randomforestclassifier__max_features': 'auto', 'randomforestclassifier__max_depth': None, 'randomforestclassifier__criterion': 'entropy'}\n",
            "0.8103703703703703\n"
          ],
          "name": "stdout"
        }
      ]
    },
    {
      "cell_type": "code",
      "metadata": {
        "id": "0wHJmkmkcJIO",
        "colab_type": "code",
        "outputId": "4dfdb3e0-f665-4bf9-89bd-963855ec521e",
        "colab": {
          "base_uri": "https://localhost:8080/",
          "height": 424
        }
      },
      "source": [
        "y_pred = search.best_estimator_.predict(X_test_transformed)\n",
        "\n",
        "submission = sample_submission.copy()\n",
        "submission[target] = y_pred\n",
        "\n",
        "filename = 'rokshana-kaggle-waterpumps-submission-04.csv'\n",
        "\n",
        "submission.to_csv(filename, index=False)\n",
        "\n",
        "submission"
      ],
      "execution_count": 0,
      "outputs": [
        {
          "output_type": "execute_result",
          "data": {
            "text/html": [
              "<div>\n",
              "<style scoped>\n",
              "    .dataframe tbody tr th:only-of-type {\n",
              "        vertical-align: middle;\n",
              "    }\n",
              "\n",
              "    .dataframe tbody tr th {\n",
              "        vertical-align: top;\n",
              "    }\n",
              "\n",
              "    .dataframe thead th {\n",
              "        text-align: right;\n",
              "    }\n",
              "</style>\n",
              "<table border=\"1\" class=\"dataframe\">\n",
              "  <thead>\n",
              "    <tr style=\"text-align: right;\">\n",
              "      <th></th>\n",
              "      <th>id</th>\n",
              "      <th>status_group</th>\n",
              "    </tr>\n",
              "  </thead>\n",
              "  <tbody>\n",
              "    <tr>\n",
              "      <th>0</th>\n",
              "      <td>50785</td>\n",
              "      <td>functional</td>\n",
              "    </tr>\n",
              "    <tr>\n",
              "      <th>1</th>\n",
              "      <td>51630</td>\n",
              "      <td>functional</td>\n",
              "    </tr>\n",
              "    <tr>\n",
              "      <th>2</th>\n",
              "      <td>17168</td>\n",
              "      <td>functional</td>\n",
              "    </tr>\n",
              "    <tr>\n",
              "      <th>3</th>\n",
              "      <td>45559</td>\n",
              "      <td>non functional</td>\n",
              "    </tr>\n",
              "    <tr>\n",
              "      <th>4</th>\n",
              "      <td>49871</td>\n",
              "      <td>functional</td>\n",
              "    </tr>\n",
              "    <tr>\n",
              "      <th>...</th>\n",
              "      <td>...</td>\n",
              "      <td>...</td>\n",
              "    </tr>\n",
              "    <tr>\n",
              "      <th>14353</th>\n",
              "      <td>39307</td>\n",
              "      <td>non functional</td>\n",
              "    </tr>\n",
              "    <tr>\n",
              "      <th>14354</th>\n",
              "      <td>18990</td>\n",
              "      <td>functional</td>\n",
              "    </tr>\n",
              "    <tr>\n",
              "      <th>14355</th>\n",
              "      <td>28749</td>\n",
              "      <td>functional</td>\n",
              "    </tr>\n",
              "    <tr>\n",
              "      <th>14356</th>\n",
              "      <td>33492</td>\n",
              "      <td>functional</td>\n",
              "    </tr>\n",
              "    <tr>\n",
              "      <th>14357</th>\n",
              "      <td>68707</td>\n",
              "      <td>non functional</td>\n",
              "    </tr>\n",
              "  </tbody>\n",
              "</table>\n",
              "<p>14358 rows × 2 columns</p>\n",
              "</div>"
            ],
            "text/plain": [
              "          id    status_group\n",
              "0      50785      functional\n",
              "1      51630      functional\n",
              "2      17168      functional\n",
              "3      45559  non functional\n",
              "4      49871      functional\n",
              "...      ...             ...\n",
              "14353  39307  non functional\n",
              "14354  18990      functional\n",
              "14355  28749      functional\n",
              "14356  33492      functional\n",
              "14357  68707  non functional\n",
              "\n",
              "[14358 rows x 2 columns]"
            ]
          },
          "metadata": {
            "tags": []
          },
          "execution_count": 13
        }
      ]
    }
  ]
}